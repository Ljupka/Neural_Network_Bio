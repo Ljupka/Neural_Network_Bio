{
  "cells": [
    {
      "cell_type": "markdown",
      "metadata": {
        "id": "view-in-github",
        "colab_type": "text"
      },
      "source": [
        "<a href=\"https://colab.research.google.com/github/Ljupka/Neural_Network_Bio/blob/main/04_DNA_enhancers.ipynb\" target=\"_parent\"><img src=\"https://colab.research.google.com/assets/colab-badge.svg\" alt=\"Open In Colab\"/></a>"
      ]
    },
    {
      "cell_type": "markdown",
      "source": [
        "## Setup"
      ],
      "metadata": {
        "id": "XUhsOuC-CjC4"
      }
    },
    {
      "cell_type": "code",
      "execution_count": 5,
      "metadata": {
        "id": "uuhcuLhWapla"
      },
      "outputs": [],
      "source": [
        "!pip install -q genomic-benchmarks\n",
        "!pip install torchmetrics -q"
      ]
    },
    {
      "cell_type": "markdown",
      "source": [
        "## Text preprocessing"
      ],
      "metadata": {
        "id": "MxReT2qZCkyJ"
      }
    },
    {
      "cell_type": "code",
      "source": [
        "import torch\n",
        "example_seq = 'ACCCTGCCAACACGGGACTTTAC'\n",
        "vocab = {'A':0,'C':1,'T':2,'G':3}"
      ],
      "metadata": {
        "id": "JVhdqcmWq67s"
      },
      "execution_count": 8,
      "outputs": []
    },
    {
      "cell_type": "code",
      "source": [
        "numericalized = [vocab[c] for c in example_seq]\n",
        "numericalized"
      ],
      "metadata": {
        "id": "LHgah9gZC2uX",
        "outputId": "21c26a7d-0288-487c-c977-9abec9f2b351",
        "colab": {
          "base_uri": "https://localhost:8080/"
        }
      },
      "execution_count": 9,
      "outputs": [
        {
          "output_type": "execute_result",
          "data": {
            "text/plain": [
              "[0, 1, 1, 1, 2, 3, 1, 1, 0, 0, 1, 0, 1, 3, 3, 3, 0, 1, 2, 2, 2, 0, 1]"
            ]
          },
          "metadata": {},
          "execution_count": 9
        }
      ]
    },
    {
      "cell_type": "code",
      "source": [
        "numericalized_tensor = torch.tensor(numericalized)\n",
        "ohe_seq = torch.nn.functional.one_hot(numericalized_tensor, num_classes=5)\n",
        "ohe_seq"
      ],
      "metadata": {
        "id": "WL9PgorSC_hc",
        "outputId": "728f9a38-3459-48b8-c048-660b6fcdb49e",
        "colab": {
          "base_uri": "https://localhost:8080/"
        }
      },
      "execution_count": 10,
      "outputs": [
        {
          "output_type": "execute_result",
          "data": {
            "text/plain": [
              "tensor([[1, 0, 0, 0, 0],\n",
              "        [0, 1, 0, 0, 0],\n",
              "        [0, 1, 0, 0, 0],\n",
              "        [0, 1, 0, 0, 0],\n",
              "        [0, 0, 1, 0, 0],\n",
              "        [0, 0, 0, 1, 0],\n",
              "        [0, 1, 0, 0, 0],\n",
              "        [0, 1, 0, 0, 0],\n",
              "        [1, 0, 0, 0, 0],\n",
              "        [1, 0, 0, 0, 0],\n",
              "        [0, 1, 0, 0, 0],\n",
              "        [1, 0, 0, 0, 0],\n",
              "        [0, 1, 0, 0, 0],\n",
              "        [0, 0, 0, 1, 0],\n",
              "        [0, 0, 0, 1, 0],\n",
              "        [0, 0, 0, 1, 0],\n",
              "        [1, 0, 0, 0, 0],\n",
              "        [0, 1, 0, 0, 0],\n",
              "        [0, 0, 1, 0, 0],\n",
              "        [0, 0, 1, 0, 0],\n",
              "        [0, 0, 1, 0, 0],\n",
              "        [1, 0, 0, 0, 0],\n",
              "        [0, 1, 0, 0, 0]])"
            ]
          },
          "metadata": {},
          "execution_count": 10
        }
      ]
    },
    {
      "cell_type": "markdown",
      "source": [
        "## Promoters Project"
      ],
      "metadata": {
        "id": "ZrXBPlLXCove"
      }
    },
    {
      "cell_type": "markdown",
      "source": [
        "Your task is to\n",
        "\n",
        "1.   **Create model for DNA sequence classification based on if it contains an promoter (label 1) or not (label 0)**\n",
        "2.   **Show that your model is generalizing on new unseen data**\n",
        "\n",
        "Tips\n",
        "*   Use the pytorch documentation\n",
        "*   You can use nn.Conv1d layer to perform convolution over 1D data.\n",
        "*   Feel free to use any other improvements you can think of or find on the internet (e.g. more metrics, different architecture...)\n",
        "*   Use GPU for training\n",
        "\n",
        "\n",
        "\n",
        "\n"
      ],
      "metadata": {
        "id": "aQXhhdEEGOc0"
      }
    },
    {
      "cell_type": "code",
      "execution_count": 11,
      "metadata": {
        "id": "mmKgWPNvac3W",
        "outputId": "a45540fc-652e-44a2-ba4f-00bb6db0eeb1",
        "colab": {
          "base_uri": "https://localhost:8080/"
        }
      },
      "outputs": [
        {
          "output_type": "stream",
          "name": "stderr",
          "text": [
            "/usr/local/lib/python3.12/dist-packages/genomic_benchmarks/utils/datasets.py:11: TqdmExperimentalWarning: Using `tqdm.autonotebook.tqdm` in notebook mode. Use `tqdm.tqdm` instead to force console mode (e.g. in jupyter console)\n",
            "  from tqdm.autonotebook import tqdm\n",
            "/usr/local/lib/python3.12/dist-packages/genomic_benchmarks/utils/datasets.py:50: UserWarning: No version specified. Using version 0.\n",
            "  warnings.warn(f\"No version specified. Using version {metadata['version']}.\")\n"
          ]
        }
      ],
      "source": [
        "from genomic_benchmarks.dataset_getters.pytorch_datasets import HumanNontataPromoters\n",
        "import pandas as pd\n",
        "\n",
        "train_df = pd.DataFrame(data=[{'x':x,'y':y} for x,y in HumanNontataPromoters('train')])\n",
        "test_df = pd.DataFrame(data=[{'x':x,'y':y} for x,y in HumanNontataPromoters('test')])"
      ]
    },
    {
      "cell_type": "code",
      "source": [
        "train_df"
      ],
      "metadata": {
        "colab": {
          "base_uri": "https://localhost:8080/",
          "height": 411
        },
        "id": "L0b1Q8a0s4LX",
        "outputId": "372aeb68-0df7-4c1c-e605-5f474d13a419"
      },
      "execution_count": 67,
      "outputs": [
        {
          "output_type": "execute_result",
          "data": {
            "text/plain": [
              "                                                       x  y\n",
              "0      TTGCTTTCCATCGAACTCTGCAAATTTTGCAATAGGGGGAGGGATT...  0\n",
              "1      AGTGTTTTCTTGTGGGGGCAGATAAAGGAAAAGGGAGGGGAACAAA...  0\n",
              "2      CGGAAGGGCTGGAGCGTGTGCGGATCTCCGCGTCGGAGCTGCGCGG...  0\n",
              "3      AACTGCTGTGTCACTACTCTGTGCTGGGTAAGAAAAAGGAAAACAA...  0\n",
              "4      GATCCCTCGCAGCCCTCCCCCAGCCCAGGAGTAGTCGAGAGAGACT...  0\n",
              "...                                                  ... ..\n",
              "27092  ATGATTAAGATGTGGACAAGGTGAAGCCGATGGAGGGGGAGCTTTG...  1\n",
              "27093  TTAGTATCAGATTGCGTCAGGGAGAAAGAAGGGTTATTAACATTAA...  1\n",
              "27094  TCCAAATGTTGTGAATGGATTAAATTCTGCTTCCACTAGAAGCTTT...  1\n",
              "27095  GGGGGGGCTGGCGCGAGGCTGCCTGGCTAGGCCTTGGCGTTCCCCC...  1\n",
              "27096  CCTATCTCCGTGATGTGGAGAGCCCTGAAGGGCCAGTCCCCATCAC...  1\n",
              "\n",
              "[27097 rows x 2 columns]"
            ],
            "text/html": [
              "\n",
              "  <div id=\"df-2be221b1-3477-4aeb-8857-37a69c05b54a\" class=\"colab-df-container\">\n",
              "    <div>\n",
              "<style scoped>\n",
              "    .dataframe tbody tr th:only-of-type {\n",
              "        vertical-align: middle;\n",
              "    }\n",
              "\n",
              "    .dataframe tbody tr th {\n",
              "        vertical-align: top;\n",
              "    }\n",
              "\n",
              "    .dataframe thead th {\n",
              "        text-align: right;\n",
              "    }\n",
              "</style>\n",
              "<table border=\"1\" class=\"dataframe\">\n",
              "  <thead>\n",
              "    <tr style=\"text-align: right;\">\n",
              "      <th></th>\n",
              "      <th>x</th>\n",
              "      <th>y</th>\n",
              "    </tr>\n",
              "  </thead>\n",
              "  <tbody>\n",
              "    <tr>\n",
              "      <th>0</th>\n",
              "      <td>TTGCTTTCCATCGAACTCTGCAAATTTTGCAATAGGGGGAGGGATT...</td>\n",
              "      <td>0</td>\n",
              "    </tr>\n",
              "    <tr>\n",
              "      <th>1</th>\n",
              "      <td>AGTGTTTTCTTGTGGGGGCAGATAAAGGAAAAGGGAGGGGAACAAA...</td>\n",
              "      <td>0</td>\n",
              "    </tr>\n",
              "    <tr>\n",
              "      <th>2</th>\n",
              "      <td>CGGAAGGGCTGGAGCGTGTGCGGATCTCCGCGTCGGAGCTGCGCGG...</td>\n",
              "      <td>0</td>\n",
              "    </tr>\n",
              "    <tr>\n",
              "      <th>3</th>\n",
              "      <td>AACTGCTGTGTCACTACTCTGTGCTGGGTAAGAAAAAGGAAAACAA...</td>\n",
              "      <td>0</td>\n",
              "    </tr>\n",
              "    <tr>\n",
              "      <th>4</th>\n",
              "      <td>GATCCCTCGCAGCCCTCCCCCAGCCCAGGAGTAGTCGAGAGAGACT...</td>\n",
              "      <td>0</td>\n",
              "    </tr>\n",
              "    <tr>\n",
              "      <th>...</th>\n",
              "      <td>...</td>\n",
              "      <td>...</td>\n",
              "    </tr>\n",
              "    <tr>\n",
              "      <th>27092</th>\n",
              "      <td>ATGATTAAGATGTGGACAAGGTGAAGCCGATGGAGGGGGAGCTTTG...</td>\n",
              "      <td>1</td>\n",
              "    </tr>\n",
              "    <tr>\n",
              "      <th>27093</th>\n",
              "      <td>TTAGTATCAGATTGCGTCAGGGAGAAAGAAGGGTTATTAACATTAA...</td>\n",
              "      <td>1</td>\n",
              "    </tr>\n",
              "    <tr>\n",
              "      <th>27094</th>\n",
              "      <td>TCCAAATGTTGTGAATGGATTAAATTCTGCTTCCACTAGAAGCTTT...</td>\n",
              "      <td>1</td>\n",
              "    </tr>\n",
              "    <tr>\n",
              "      <th>27095</th>\n",
              "      <td>GGGGGGGCTGGCGCGAGGCTGCCTGGCTAGGCCTTGGCGTTCCCCC...</td>\n",
              "      <td>1</td>\n",
              "    </tr>\n",
              "    <tr>\n",
              "      <th>27096</th>\n",
              "      <td>CCTATCTCCGTGATGTGGAGAGCCCTGAAGGGCCAGTCCCCATCAC...</td>\n",
              "      <td>1</td>\n",
              "    </tr>\n",
              "  </tbody>\n",
              "</table>\n",
              "<p>27097 rows × 2 columns</p>\n",
              "</div>\n",
              "    <div class=\"colab-df-buttons\">\n",
              "\n",
              "  <div class=\"colab-df-container\">\n",
              "    <button class=\"colab-df-convert\" onclick=\"convertToInteractive('df-2be221b1-3477-4aeb-8857-37a69c05b54a')\"\n",
              "            title=\"Convert this dataframe to an interactive table.\"\n",
              "            style=\"display:none;\">\n",
              "\n",
              "  <svg xmlns=\"http://www.w3.org/2000/svg\" height=\"24px\" viewBox=\"0 -960 960 960\">\n",
              "    <path d=\"M120-120v-720h720v720H120Zm60-500h600v-160H180v160Zm220 220h160v-160H400v160Zm0 220h160v-160H400v160ZM180-400h160v-160H180v160Zm440 0h160v-160H620v160ZM180-180h160v-160H180v160Zm440 0h160v-160H620v160Z\"/>\n",
              "  </svg>\n",
              "    </button>\n",
              "\n",
              "  <style>\n",
              "    .colab-df-container {\n",
              "      display:flex;\n",
              "      gap: 12px;\n",
              "    }\n",
              "\n",
              "    .colab-df-convert {\n",
              "      background-color: #E8F0FE;\n",
              "      border: none;\n",
              "      border-radius: 50%;\n",
              "      cursor: pointer;\n",
              "      display: none;\n",
              "      fill: #1967D2;\n",
              "      height: 32px;\n",
              "      padding: 0 0 0 0;\n",
              "      width: 32px;\n",
              "    }\n",
              "\n",
              "    .colab-df-convert:hover {\n",
              "      background-color: #E2EBFA;\n",
              "      box-shadow: 0px 1px 2px rgba(60, 64, 67, 0.3), 0px 1px 3px 1px rgba(60, 64, 67, 0.15);\n",
              "      fill: #174EA6;\n",
              "    }\n",
              "\n",
              "    .colab-df-buttons div {\n",
              "      margin-bottom: 4px;\n",
              "    }\n",
              "\n",
              "    [theme=dark] .colab-df-convert {\n",
              "      background-color: #3B4455;\n",
              "      fill: #D2E3FC;\n",
              "    }\n",
              "\n",
              "    [theme=dark] .colab-df-convert:hover {\n",
              "      background-color: #434B5C;\n",
              "      box-shadow: 0px 1px 3px 1px rgba(0, 0, 0, 0.15);\n",
              "      filter: drop-shadow(0px 1px 2px rgba(0, 0, 0, 0.3));\n",
              "      fill: #FFFFFF;\n",
              "    }\n",
              "  </style>\n",
              "\n",
              "    <script>\n",
              "      const buttonEl =\n",
              "        document.querySelector('#df-2be221b1-3477-4aeb-8857-37a69c05b54a button.colab-df-convert');\n",
              "      buttonEl.style.display =\n",
              "        google.colab.kernel.accessAllowed ? 'block' : 'none';\n",
              "\n",
              "      async function convertToInteractive(key) {\n",
              "        const element = document.querySelector('#df-2be221b1-3477-4aeb-8857-37a69c05b54a');\n",
              "        const dataTable =\n",
              "          await google.colab.kernel.invokeFunction('convertToInteractive',\n",
              "                                                    [key], {});\n",
              "        if (!dataTable) return;\n",
              "\n",
              "        const docLinkHtml = 'Like what you see? Visit the ' +\n",
              "          '<a target=\"_blank\" href=https://colab.research.google.com/notebooks/data_table.ipynb>data table notebook</a>'\n",
              "          + ' to learn more about interactive tables.';\n",
              "        element.innerHTML = '';\n",
              "        dataTable['output_type'] = 'display_data';\n",
              "        await google.colab.output.renderOutput(dataTable, element);\n",
              "        const docLink = document.createElement('div');\n",
              "        docLink.innerHTML = docLinkHtml;\n",
              "        element.appendChild(docLink);\n",
              "      }\n",
              "    </script>\n",
              "  </div>\n",
              "\n",
              "\n",
              "    <div id=\"df-35dd85eb-1209-42e0-a20d-fb896332a387\">\n",
              "      <button class=\"colab-df-quickchart\" onclick=\"quickchart('df-35dd85eb-1209-42e0-a20d-fb896332a387')\"\n",
              "                title=\"Suggest charts\"\n",
              "                style=\"display:none;\">\n",
              "\n",
              "<svg xmlns=\"http://www.w3.org/2000/svg\" height=\"24px\"viewBox=\"0 0 24 24\"\n",
              "     width=\"24px\">\n",
              "    <g>\n",
              "        <path d=\"M19 3H5c-1.1 0-2 .9-2 2v14c0 1.1.9 2 2 2h14c1.1 0 2-.9 2-2V5c0-1.1-.9-2-2-2zM9 17H7v-7h2v7zm4 0h-2V7h2v10zm4 0h-2v-4h2v4z\"/>\n",
              "    </g>\n",
              "</svg>\n",
              "      </button>\n",
              "\n",
              "<style>\n",
              "  .colab-df-quickchart {\n",
              "      --bg-color: #E8F0FE;\n",
              "      --fill-color: #1967D2;\n",
              "      --hover-bg-color: #E2EBFA;\n",
              "      --hover-fill-color: #174EA6;\n",
              "      --disabled-fill-color: #AAA;\n",
              "      --disabled-bg-color: #DDD;\n",
              "  }\n",
              "\n",
              "  [theme=dark] .colab-df-quickchart {\n",
              "      --bg-color: #3B4455;\n",
              "      --fill-color: #D2E3FC;\n",
              "      --hover-bg-color: #434B5C;\n",
              "      --hover-fill-color: #FFFFFF;\n",
              "      --disabled-bg-color: #3B4455;\n",
              "      --disabled-fill-color: #666;\n",
              "  }\n",
              "\n",
              "  .colab-df-quickchart {\n",
              "    background-color: var(--bg-color);\n",
              "    border: none;\n",
              "    border-radius: 50%;\n",
              "    cursor: pointer;\n",
              "    display: none;\n",
              "    fill: var(--fill-color);\n",
              "    height: 32px;\n",
              "    padding: 0;\n",
              "    width: 32px;\n",
              "  }\n",
              "\n",
              "  .colab-df-quickchart:hover {\n",
              "    background-color: var(--hover-bg-color);\n",
              "    box-shadow: 0 1px 2px rgba(60, 64, 67, 0.3), 0 1px 3px 1px rgba(60, 64, 67, 0.15);\n",
              "    fill: var(--button-hover-fill-color);\n",
              "  }\n",
              "\n",
              "  .colab-df-quickchart-complete:disabled,\n",
              "  .colab-df-quickchart-complete:disabled:hover {\n",
              "    background-color: var(--disabled-bg-color);\n",
              "    fill: var(--disabled-fill-color);\n",
              "    box-shadow: none;\n",
              "  }\n",
              "\n",
              "  .colab-df-spinner {\n",
              "    border: 2px solid var(--fill-color);\n",
              "    border-color: transparent;\n",
              "    border-bottom-color: var(--fill-color);\n",
              "    animation:\n",
              "      spin 1s steps(1) infinite;\n",
              "  }\n",
              "\n",
              "  @keyframes spin {\n",
              "    0% {\n",
              "      border-color: transparent;\n",
              "      border-bottom-color: var(--fill-color);\n",
              "      border-left-color: var(--fill-color);\n",
              "    }\n",
              "    20% {\n",
              "      border-color: transparent;\n",
              "      border-left-color: var(--fill-color);\n",
              "      border-top-color: var(--fill-color);\n",
              "    }\n",
              "    30% {\n",
              "      border-color: transparent;\n",
              "      border-left-color: var(--fill-color);\n",
              "      border-top-color: var(--fill-color);\n",
              "      border-right-color: var(--fill-color);\n",
              "    }\n",
              "    40% {\n",
              "      border-color: transparent;\n",
              "      border-right-color: var(--fill-color);\n",
              "      border-top-color: var(--fill-color);\n",
              "    }\n",
              "    60% {\n",
              "      border-color: transparent;\n",
              "      border-right-color: var(--fill-color);\n",
              "    }\n",
              "    80% {\n",
              "      border-color: transparent;\n",
              "      border-right-color: var(--fill-color);\n",
              "      border-bottom-color: var(--fill-color);\n",
              "    }\n",
              "    90% {\n",
              "      border-color: transparent;\n",
              "      border-bottom-color: var(--fill-color);\n",
              "    }\n",
              "  }\n",
              "</style>\n",
              "\n",
              "      <script>\n",
              "        async function quickchart(key) {\n",
              "          const quickchartButtonEl =\n",
              "            document.querySelector('#' + key + ' button');\n",
              "          quickchartButtonEl.disabled = true;  // To prevent multiple clicks.\n",
              "          quickchartButtonEl.classList.add('colab-df-spinner');\n",
              "          try {\n",
              "            const charts = await google.colab.kernel.invokeFunction(\n",
              "                'suggestCharts', [key], {});\n",
              "          } catch (error) {\n",
              "            console.error('Error during call to suggestCharts:', error);\n",
              "          }\n",
              "          quickchartButtonEl.classList.remove('colab-df-spinner');\n",
              "          quickchartButtonEl.classList.add('colab-df-quickchart-complete');\n",
              "        }\n",
              "        (() => {\n",
              "          let quickchartButtonEl =\n",
              "            document.querySelector('#df-35dd85eb-1209-42e0-a20d-fb896332a387 button');\n",
              "          quickchartButtonEl.style.display =\n",
              "            google.colab.kernel.accessAllowed ? 'block' : 'none';\n",
              "        })();\n",
              "      </script>\n",
              "    </div>\n",
              "\n",
              "  <div id=\"id_a32c912d-ca8f-49c6-8e7a-edf8294bcfc6\">\n",
              "    <style>\n",
              "      .colab-df-generate {\n",
              "        background-color: #E8F0FE;\n",
              "        border: none;\n",
              "        border-radius: 50%;\n",
              "        cursor: pointer;\n",
              "        display: none;\n",
              "        fill: #1967D2;\n",
              "        height: 32px;\n",
              "        padding: 0 0 0 0;\n",
              "        width: 32px;\n",
              "      }\n",
              "\n",
              "      .colab-df-generate:hover {\n",
              "        background-color: #E2EBFA;\n",
              "        box-shadow: 0px 1px 2px rgba(60, 64, 67, 0.3), 0px 1px 3px 1px rgba(60, 64, 67, 0.15);\n",
              "        fill: #174EA6;\n",
              "      }\n",
              "\n",
              "      [theme=dark] .colab-df-generate {\n",
              "        background-color: #3B4455;\n",
              "        fill: #D2E3FC;\n",
              "      }\n",
              "\n",
              "      [theme=dark] .colab-df-generate:hover {\n",
              "        background-color: #434B5C;\n",
              "        box-shadow: 0px 1px 3px 1px rgba(0, 0, 0, 0.15);\n",
              "        filter: drop-shadow(0px 1px 2px rgba(0, 0, 0, 0.3));\n",
              "        fill: #FFFFFF;\n",
              "      }\n",
              "    </style>\n",
              "    <button class=\"colab-df-generate\" onclick=\"generateWithVariable('train_df')\"\n",
              "            title=\"Generate code using this dataframe.\"\n",
              "            style=\"display:none;\">\n",
              "\n",
              "  <svg xmlns=\"http://www.w3.org/2000/svg\" height=\"24px\"viewBox=\"0 0 24 24\"\n",
              "       width=\"24px\">\n",
              "    <path d=\"M7,19H8.4L18.45,9,17,7.55,7,17.6ZM5,21V16.75L18.45,3.32a2,2,0,0,1,2.83,0l1.4,1.43a1.91,1.91,0,0,1,.58,1.4,1.91,1.91,0,0,1-.58,1.4L9.25,21ZM18.45,9,17,7.55Zm-12,3A5.31,5.31,0,0,0,4.9,8.1,5.31,5.31,0,0,0,1,6.5,5.31,5.31,0,0,0,4.9,4.9,5.31,5.31,0,0,0,6.5,1,5.31,5.31,0,0,0,8.1,4.9,5.31,5.31,0,0,0,12,6.5,5.46,5.46,0,0,0,6.5,12Z\"/>\n",
              "  </svg>\n",
              "    </button>\n",
              "    <script>\n",
              "      (() => {\n",
              "      const buttonEl =\n",
              "        document.querySelector('#id_a32c912d-ca8f-49c6-8e7a-edf8294bcfc6 button.colab-df-generate');\n",
              "      buttonEl.style.display =\n",
              "        google.colab.kernel.accessAllowed ? 'block' : 'none';\n",
              "\n",
              "      buttonEl.onclick = () => {\n",
              "        google.colab.notebook.generateWithVariable('train_df');\n",
              "      }\n",
              "      })();\n",
              "    </script>\n",
              "  </div>\n",
              "\n",
              "    </div>\n",
              "  </div>\n"
            ],
            "application/vnd.google.colaboratory.intrinsic+json": {
              "type": "dataframe",
              "variable_name": "train_df",
              "summary": "{\n  \"name\": \"train_df\",\n  \"rows\": 27097,\n  \"fields\": [\n    {\n      \"column\": \"x\",\n      \"properties\": {\n        \"dtype\": \"string\",\n        \"num_unique_values\": 27097,\n        \"samples\": [\n          \"TCCTGGACAGAAAGCGCCATAACAGCATCTCGGAGGCCAAGATGAGGGACAAGCATAAGAAGGAGGCGTAAGGGCACCGGGACCGGGGGCCATCTGGGTACTGGGGAGGCAGGGCAGGTGTCTGGGCCCCGAGCCATCCTGCGTTGCTCCCGTGCAGGGAACTGACGGAGATTAACCGTCGGCACATCACTGAGTCAGTCAACTCCATCCGTCGGGTGAGTCAGGCTCCCGGGCCACCCTACCCCACCTCC\",\n          \"TGTACACATTTTAAATACTTAATTTCCAGTAAAGCATAAAAAATAAACAGCTTCTCTCTTCACTCCTATACATCCCAGAAACATGTGACGTGTACGTGTAAATATGACACATCTACTACATCAAGTAAACACGTAACCTTAAAATTTTTATGGTTTAACATGCACAAGGGGCCAGATTATACACTGAATCTTTATGTTAGTCTTGGAAGGTCACAAAAATGAACAAAACTGGGGGAAAATACATTTATTAA\",\n          \"CTGAGAGTTCGGCGCCGGGAGGGTCCCGGGGACAGAAGAGCGCCTCGCCCGGTTGCCAAGGCAACCCCACGCGGCTGGAGAAGCCGGCGCTCGCAGCCCGGCCCGGGCCGCTGCCGGAAGTGACGCGAGTTCACCTGCCGAGCGGGGGCTGGGAGGAGGGGCGGAGGGTGCAGAGGTGCCGCCGCCGCCGCGAGCCAGTCGGGAGCGCGCGAGGCGCGGGGAGCCTGGGACCAGGAGCGAGAGCCGCCTAC\"\n        ],\n        \"semantic_type\": \"\",\n        \"description\": \"\"\n      }\n    },\n    {\n      \"column\": \"y\",\n      \"properties\": {\n        \"dtype\": \"number\",\n        \"std\": 0,\n        \"min\": 0,\n        \"max\": 1,\n        \"num_unique_values\": 2,\n        \"samples\": [\n          1,\n          0\n        ],\n        \"semantic_type\": \"\",\n        \"description\": \"\"\n      }\n    }\n  ]\n}"
            }
          },
          "metadata": {},
          "execution_count": 67
        }
      ]
    },
    {
      "cell_type": "code",
      "source": [
        "from itertools import product\n",
        "\n",
        "letters = list(vocab.keys())\n",
        "triplets = [''.join(p) for p in product(letters, repeat=3)]\n",
        "vocab_components = {triplet: i for i, triplet in enumerate(triplets)}"
      ],
      "metadata": {
        "id": "rll1OPpG6ut5"
      },
      "execution_count": 13,
      "outputs": []
    },
    {
      "cell_type": "code",
      "source": [
        "def get_components(seq, component_length=3):\n",
        "    return [seq[i:i+component_length] for i in range(len(seq) - component_length + 1)]"
      ],
      "metadata": {
        "id": "SNiUjImMzNCp"
      },
      "execution_count": 14,
      "outputs": []
    },
    {
      "cell_type": "code",
      "source": [
        "def bag_of_components(components, vocab_components):\n",
        "    bow_vector = torch.zeros(len(vocab_components) + 1) # Add 1 for unknown components\n",
        "    for comp in components:\n",
        "        if comp in vocab_components:\n",
        "            bow_vector[vocab_components[comp]] += 1\n",
        "        else:\n",
        "            bow_vector[len(vocab_components)] += 1 # Increment count for unknown components\n",
        "    return bow_vector"
      ],
      "metadata": {
        "id": "qzrB1obA6ZLf"
      },
      "execution_count": 15,
      "outputs": []
    },
    {
      "cell_type": "code",
      "source": [
        "from torch.utils.data import Dataset, DataLoader\n",
        "\n",
        "class PromotersDataset(Dataset):\n",
        "    def __init__(self, train_df):\n",
        "       self.train_df = train_df.copy()\n",
        "\n",
        "       train_df['components'] = train_df['x'].apply(get_components)\n",
        "       train_df['bow_components'] = train_df['components'].apply(lambda x: bag_of_components(x, vocab_components))\n",
        "\n",
        "    def __len__(self):\n",
        "       return len(self.train_df)\n",
        "\n",
        "    def __getitem__(self, idx):\n",
        "        if idx < 0 or idx >= len(self):\n",
        "            raise IndexError(f\"Index {idx} out of range\")\n",
        "        row = self.train_df.iloc[idx]\n",
        "        # return a dict; convert to tensors here if desired\n",
        "        return {\n",
        "            \"x\": row[\"x\"],\n",
        "            \"components\": row[\"components\"],\n",
        "            \"bow_components\": row[\"bow_components\"],\n",
        "            \"y\": row[\"y\"]\n",
        "        }"
      ],
      "metadata": {
        "id": "zX25wLuQ40En"
      },
      "execution_count": 24,
      "outputs": []
    },
    {
      "cell_type": "code",
      "source": [
        "dataset = PromotersDataset(train_df)"
      ],
      "metadata": {
        "id": "JDCP61VuzoNu"
      },
      "execution_count": 25,
      "outputs": []
    },
    {
      "cell_type": "code",
      "source": [
        "print(len(dataset))\n",
        "print(dataset[0])"
      ],
      "metadata": {
        "id": "0oeOg3BL_DEr",
        "outputId": "45214781-5ba3-4d3b-da47-df5237314a51",
        "colab": {
          "base_uri": "https://localhost:8080/"
        }
      },
      "execution_count": 26,
      "outputs": [
        {
          "output_type": "stream",
          "name": "stdout",
          "text": [
            "27097\n",
            "{'x': 'TGGGGTACCAGGAGGACGCGAGCTGACTACCTGACTCCGGGCGGCGCAGGACGCCCGCCGCGCGAGGGGCGGGGGCTAAGCGTATCGAGGGGCGGTGCTCGAGGGCGCGGGAGGCGGGAGAGGCTGCCGCGCCGTGTGCCCTGGCAGCCGCAGCCCCGCCCCGCCGCGTCCGGCCCGGTCCTGTCCCGCAGCGTCCCGCCAGCCAGCTCCTTGCACCCTTCGCGGCCGAGGCGCTCCCTGGTGCTCCCCGC', 'components': ['TGG', 'GGG', 'GGG', 'GGT', 'GTA', 'TAC', 'ACC', 'CCA', 'CAG', 'AGG', 'GGA', 'GAG', 'AGG', 'GGA', 'GAC', 'ACG', 'CGC', 'GCG', 'CGA', 'GAG', 'AGC', 'GCT', 'CTG', 'TGA', 'GAC', 'ACT', 'CTA', 'TAC', 'ACC', 'CCT', 'CTG', 'TGA', 'GAC', 'ACT', 'CTC', 'TCC', 'CCG', 'CGG', 'GGG', 'GGC', 'GCG', 'CGG', 'GGC', 'GCG', 'CGC', 'GCA', 'CAG', 'AGG', 'GGA', 'GAC', 'ACG', 'CGC', 'GCC', 'CCC', 'CCG', 'CGC', 'GCC', 'CCG', 'CGC', 'GCG', 'CGC', 'GCG', 'CGA', 'GAG', 'AGG', 'GGG', 'GGG', 'GGC', 'GCG', 'CGG', 'GGG', 'GGG', 'GGG', 'GGC', 'GCT', 'CTA', 'TAA', 'AAG', 'AGC', 'GCG', 'CGT', 'GTA', 'TAT', 'ATC', 'TCG', 'CGA', 'GAG', 'AGG', 'GGG', 'GGG', 'GGC', 'GCG', 'CGG', 'GGT', 'GTG', 'TGC', 'GCT', 'CTC', 'TCG', 'CGA', 'GAG', 'AGG', 'GGG', 'GGC', 'GCG', 'CGC', 'GCG', 'CGG', 'GGG', 'GGA', 'GAG', 'AGG', 'GGC', 'GCG', 'CGG', 'GGG', 'GGA', 'GAG', 'AGA', 'GAG', 'AGG', 'GGC', 'GCT', 'CTG', 'TGC', 'GCC', 'CCG', 'CGC', 'GCG', 'CGC', 'GCC', 'CCG', 'CGT', 'GTG', 'TGT', 'GTG', 'TGC', 'GCC', 'CCC', 'CCT', 'CTG', 'TGG', 'GGC', 'GCA', 'CAG', 'AGC', 'GCC', 'CCG', 'CGC', 'GCA', 'CAG', 'AGC', 'GCC', 'CCC', 'CCC', 'CCG', 'CGC', 'GCC', 'CCC', 'CCC', 'CCG', 'CGC', 'GCC', 'CCG', 'CGC', 'GCG', 'CGT', 'GTC', 'TCC', 'CCG', 'CGG', 'GGC', 'GCC', 'CCC', 'CCG', 'CGG', 'GGT', 'GTC', 'TCC', 'CCT', 'CTG', 'TGT', 'GTC', 'TCC', 'CCC', 'CCG', 'CGC', 'GCA', 'CAG', 'AGC', 'GCG', 'CGT', 'GTC', 'TCC', 'CCC', 'CCG', 'CGC', 'GCC', 'CCA', 'CAG', 'AGC', 'GCC', 'CCA', 'CAG', 'AGC', 'GCT', 'CTC', 'TCC', 'CCT', 'CTT', 'TTG', 'TGC', 'GCA', 'CAC', 'ACC', 'CCC', 'CCT', 'CTT', 'TTC', 'TCG', 'CGC', 'GCG', 'CGG', 'GGC', 'GCC', 'CCG', 'CGA', 'GAG', 'AGG', 'GGC', 'GCG', 'CGC', 'GCT', 'CTC', 'TCC', 'CCC', 'CCT', 'CTG', 'TGG', 'GGT', 'GTG', 'TGC', 'GCT', 'CTC', 'TCC', 'CCC', 'CCC', 'CCG', 'CGC'], 'bow_components': tensor([ 0.,  0.,  0.,  1.,  0.,  3.,  2.,  2.,  0.,  1.,  0.,  0.,  1.,  7.,\n",
            "         0.,  9.,  0.,  1.,  0.,  7.,  3., 13.,  6., 15.,  2.,  5.,  2.,  6.,\n",
            "         5., 18.,  4.,  9.,  1.,  2.,  1.,  0.,  0.,  8.,  0.,  3.,  0.,  1.,\n",
            "         0.,  1.,  2.,  5.,  2.,  3.,  0.,  4.,  0.,  9.,  5., 13.,  7., 16.,\n",
            "         2.,  4.,  0.,  4.,  5., 12.,  4., 13.,  0.]), 'y': np.int64(0)}\n"
          ]
        }
      ]
    },
    {
      "cell_type": "code",
      "source": [],
      "metadata": {
        "id": "49zVFOVx5rgY"
      },
      "execution_count": null,
      "outputs": []
    },
    {
      "cell_type": "code",
      "source": [
        "# Model\n",
        "import torch.nn as nn\n",
        "import math\n",
        "\n",
        "\n",
        "class CNN(nn.Module):\n",
        "    def __init__(self,num_classes=2):\n",
        "        super().__init__()\n",
        "\n",
        "        self.conv_layers = nn.Sequential(\n",
        "            nn.Conv1d(in_channels=3, out_channels=16, kernel_size=3, padding=1),\n",
        "            nn.ReLU(),\n",
        "            nn.MaxPool2d(kernel_size=4, stride=4),\n",
        "            #nn.Conv2d(in_channels=32, out_channels=64, kernel_size=5, padding=2),\n",
        "            #nn.ReLU(),\n",
        "            #nn.MaxPool2d(kernel_size=4, stride=4),\n",
        "        )\n",
        "        # Flatten layer\n",
        "        self.flatten = nn.Flatten()\n",
        "\n",
        "        # Fully connected layers\n",
        "        self.fc1 = nn.LazyLinear(128)\n",
        "        self.relu3 = nn.ReLU()\n",
        "        # self.fc2 = nn.Linear(128, num_classes)\n",
        "\n",
        "\n",
        "    def forward(self, x):\n",
        "        self.conv_layers(x)\n",
        "\n",
        "model = CNN(num_classes=2)"
      ],
      "metadata": {
        "id": "IdiwAnqG9WIh"
      },
      "execution_count": 27,
      "outputs": []
    },
    {
      "cell_type": "code",
      "source": [
        "model(torch.rand(1, 3, 1))"
      ],
      "metadata": {
        "colab": {
          "base_uri": "https://localhost:8080/",
          "height": 291
        },
        "id": "mRVyOEKDxgc1",
        "outputId": "845d36f5-551e-46e5-c9e6-5286426542d0"
      },
      "execution_count": 35,
      "outputs": [
        {
          "output_type": "error",
          "ename": "RuntimeError",
          "evalue": "Given input size: (1x16x1). Calculated output size: (1x4x0). Output size is too small",
          "traceback": [
            "\u001b[0;31m---------------------------------------------------------------------------\u001b[0m",
            "\u001b[0;31mRuntimeError\u001b[0m                              Traceback (most recent call last)",
            "\u001b[0;32m/tmp/ipython-input-1169199413.py\u001b[0m in \u001b[0;36m<cell line: 0>\u001b[0;34m()\u001b[0m\n\u001b[0;32m----> 1\u001b[0;31m \u001b[0mmodel\u001b[0m\u001b[0;34m(\u001b[0m\u001b[0mtorch\u001b[0m\u001b[0;34m.\u001b[0m\u001b[0mrand\u001b[0m\u001b[0;34m(\u001b[0m\u001b[0;36m1\u001b[0m\u001b[0;34m,\u001b[0m \u001b[0;36m3\u001b[0m\u001b[0;34m,\u001b[0m \u001b[0;36m1\u001b[0m\u001b[0;34m)\u001b[0m\u001b[0;34m)\u001b[0m\u001b[0;34m\u001b[0m\u001b[0;34m\u001b[0m\u001b[0m\n\u001b[0m",
            "\u001b[0;32m/usr/local/lib/python3.12/dist-packages/torch/nn/modules/module.py\u001b[0m in \u001b[0;36m_wrapped_call_impl\u001b[0;34m(self, *args, **kwargs)\u001b[0m\n\u001b[1;32m   1771\u001b[0m             \u001b[0;32mreturn\u001b[0m \u001b[0mself\u001b[0m\u001b[0;34m.\u001b[0m\u001b[0m_compiled_call_impl\u001b[0m\u001b[0;34m(\u001b[0m\u001b[0;34m*\u001b[0m\u001b[0margs\u001b[0m\u001b[0;34m,\u001b[0m \u001b[0;34m**\u001b[0m\u001b[0mkwargs\u001b[0m\u001b[0;34m)\u001b[0m  \u001b[0;31m# type: ignore[misc]\u001b[0m\u001b[0;34m\u001b[0m\u001b[0;34m\u001b[0m\u001b[0m\n\u001b[1;32m   1772\u001b[0m         \u001b[0;32melse\u001b[0m\u001b[0;34m:\u001b[0m\u001b[0;34m\u001b[0m\u001b[0;34m\u001b[0m\u001b[0m\n\u001b[0;32m-> 1773\u001b[0;31m             \u001b[0;32mreturn\u001b[0m \u001b[0mself\u001b[0m\u001b[0;34m.\u001b[0m\u001b[0m_call_impl\u001b[0m\u001b[0;34m(\u001b[0m\u001b[0;34m*\u001b[0m\u001b[0margs\u001b[0m\u001b[0;34m,\u001b[0m \u001b[0;34m**\u001b[0m\u001b[0mkwargs\u001b[0m\u001b[0;34m)\u001b[0m\u001b[0;34m\u001b[0m\u001b[0;34m\u001b[0m\u001b[0m\n\u001b[0m\u001b[1;32m   1774\u001b[0m \u001b[0;34m\u001b[0m\u001b[0m\n\u001b[1;32m   1775\u001b[0m     \u001b[0;31m# torchrec tests the code consistency with the following code\u001b[0m\u001b[0;34m\u001b[0m\u001b[0;34m\u001b[0m\u001b[0m\n",
            "\u001b[0;32m/usr/local/lib/python3.12/dist-packages/torch/nn/modules/module.py\u001b[0m in \u001b[0;36m_call_impl\u001b[0;34m(self, *args, **kwargs)\u001b[0m\n\u001b[1;32m   1782\u001b[0m                 \u001b[0;32mor\u001b[0m \u001b[0m_global_backward_pre_hooks\u001b[0m \u001b[0;32mor\u001b[0m \u001b[0m_global_backward_hooks\u001b[0m\u001b[0;34m\u001b[0m\u001b[0;34m\u001b[0m\u001b[0m\n\u001b[1;32m   1783\u001b[0m                 or _global_forward_hooks or _global_forward_pre_hooks):\n\u001b[0;32m-> 1784\u001b[0;31m             \u001b[0;32mreturn\u001b[0m \u001b[0mforward_call\u001b[0m\u001b[0;34m(\u001b[0m\u001b[0;34m*\u001b[0m\u001b[0margs\u001b[0m\u001b[0;34m,\u001b[0m \u001b[0;34m**\u001b[0m\u001b[0mkwargs\u001b[0m\u001b[0;34m)\u001b[0m\u001b[0;34m\u001b[0m\u001b[0;34m\u001b[0m\u001b[0m\n\u001b[0m\u001b[1;32m   1785\u001b[0m \u001b[0;34m\u001b[0m\u001b[0m\n\u001b[1;32m   1786\u001b[0m         \u001b[0mresult\u001b[0m \u001b[0;34m=\u001b[0m \u001b[0;32mNone\u001b[0m\u001b[0;34m\u001b[0m\u001b[0;34m\u001b[0m\u001b[0m\n",
            "\u001b[0;32m/tmp/ipython-input-2011474251.py\u001b[0m in \u001b[0;36mforward\u001b[0;34m(self, x)\u001b[0m\n\u001b[1;32m     26\u001b[0m \u001b[0;34m\u001b[0m\u001b[0m\n\u001b[1;32m     27\u001b[0m     \u001b[0;32mdef\u001b[0m \u001b[0mforward\u001b[0m\u001b[0;34m(\u001b[0m\u001b[0mself\u001b[0m\u001b[0;34m,\u001b[0m \u001b[0mx\u001b[0m\u001b[0;34m)\u001b[0m\u001b[0;34m:\u001b[0m\u001b[0;34m\u001b[0m\u001b[0;34m\u001b[0m\u001b[0m\n\u001b[0;32m---> 28\u001b[0;31m         \u001b[0mself\u001b[0m\u001b[0;34m.\u001b[0m\u001b[0mconv_layers\u001b[0m\u001b[0;34m(\u001b[0m\u001b[0mx\u001b[0m\u001b[0;34m)\u001b[0m\u001b[0;34m\u001b[0m\u001b[0;34m\u001b[0m\u001b[0m\n\u001b[0m\u001b[1;32m     29\u001b[0m \u001b[0;34m\u001b[0m\u001b[0m\n\u001b[1;32m     30\u001b[0m \u001b[0mmodel\u001b[0m \u001b[0;34m=\u001b[0m \u001b[0mCNN\u001b[0m\u001b[0;34m(\u001b[0m\u001b[0mnum_classes\u001b[0m\u001b[0;34m=\u001b[0m\u001b[0;36m2\u001b[0m\u001b[0;34m)\u001b[0m\u001b[0;34m\u001b[0m\u001b[0;34m\u001b[0m\u001b[0m\n",
            "\u001b[0;32m/usr/local/lib/python3.12/dist-packages/torch/nn/modules/module.py\u001b[0m in \u001b[0;36m_wrapped_call_impl\u001b[0;34m(self, *args, **kwargs)\u001b[0m\n\u001b[1;32m   1771\u001b[0m             \u001b[0;32mreturn\u001b[0m \u001b[0mself\u001b[0m\u001b[0;34m.\u001b[0m\u001b[0m_compiled_call_impl\u001b[0m\u001b[0;34m(\u001b[0m\u001b[0;34m*\u001b[0m\u001b[0margs\u001b[0m\u001b[0;34m,\u001b[0m \u001b[0;34m**\u001b[0m\u001b[0mkwargs\u001b[0m\u001b[0;34m)\u001b[0m  \u001b[0;31m# type: ignore[misc]\u001b[0m\u001b[0;34m\u001b[0m\u001b[0;34m\u001b[0m\u001b[0m\n\u001b[1;32m   1772\u001b[0m         \u001b[0;32melse\u001b[0m\u001b[0;34m:\u001b[0m\u001b[0;34m\u001b[0m\u001b[0;34m\u001b[0m\u001b[0m\n\u001b[0;32m-> 1773\u001b[0;31m             \u001b[0;32mreturn\u001b[0m \u001b[0mself\u001b[0m\u001b[0;34m.\u001b[0m\u001b[0m_call_impl\u001b[0m\u001b[0;34m(\u001b[0m\u001b[0;34m*\u001b[0m\u001b[0margs\u001b[0m\u001b[0;34m,\u001b[0m \u001b[0;34m**\u001b[0m\u001b[0mkwargs\u001b[0m\u001b[0;34m)\u001b[0m\u001b[0;34m\u001b[0m\u001b[0;34m\u001b[0m\u001b[0m\n\u001b[0m\u001b[1;32m   1774\u001b[0m \u001b[0;34m\u001b[0m\u001b[0m\n\u001b[1;32m   1775\u001b[0m     \u001b[0;31m# torchrec tests the code consistency with the following code\u001b[0m\u001b[0;34m\u001b[0m\u001b[0;34m\u001b[0m\u001b[0m\n",
            "\u001b[0;32m/usr/local/lib/python3.12/dist-packages/torch/nn/modules/module.py\u001b[0m in \u001b[0;36m_call_impl\u001b[0;34m(self, *args, **kwargs)\u001b[0m\n\u001b[1;32m   1782\u001b[0m                 \u001b[0;32mor\u001b[0m \u001b[0m_global_backward_pre_hooks\u001b[0m \u001b[0;32mor\u001b[0m \u001b[0m_global_backward_hooks\u001b[0m\u001b[0;34m\u001b[0m\u001b[0;34m\u001b[0m\u001b[0m\n\u001b[1;32m   1783\u001b[0m                 or _global_forward_hooks or _global_forward_pre_hooks):\n\u001b[0;32m-> 1784\u001b[0;31m             \u001b[0;32mreturn\u001b[0m \u001b[0mforward_call\u001b[0m\u001b[0;34m(\u001b[0m\u001b[0;34m*\u001b[0m\u001b[0margs\u001b[0m\u001b[0;34m,\u001b[0m \u001b[0;34m**\u001b[0m\u001b[0mkwargs\u001b[0m\u001b[0;34m)\u001b[0m\u001b[0;34m\u001b[0m\u001b[0;34m\u001b[0m\u001b[0m\n\u001b[0m\u001b[1;32m   1785\u001b[0m \u001b[0;34m\u001b[0m\u001b[0m\n\u001b[1;32m   1786\u001b[0m         \u001b[0mresult\u001b[0m \u001b[0;34m=\u001b[0m \u001b[0;32mNone\u001b[0m\u001b[0;34m\u001b[0m\u001b[0;34m\u001b[0m\u001b[0m\n",
            "\u001b[0;32m/usr/local/lib/python3.12/dist-packages/torch/nn/modules/container.py\u001b[0m in \u001b[0;36mforward\u001b[0;34m(self, input)\u001b[0m\n\u001b[1;32m    242\u001b[0m     \u001b[0;32mdef\u001b[0m \u001b[0mforward\u001b[0m\u001b[0;34m(\u001b[0m\u001b[0mself\u001b[0m\u001b[0;34m,\u001b[0m \u001b[0minput\u001b[0m\u001b[0;34m)\u001b[0m\u001b[0;34m:\u001b[0m\u001b[0;34m\u001b[0m\u001b[0;34m\u001b[0m\u001b[0m\n\u001b[1;32m    243\u001b[0m         \u001b[0;32mfor\u001b[0m \u001b[0mmodule\u001b[0m \u001b[0;32min\u001b[0m \u001b[0mself\u001b[0m\u001b[0;34m:\u001b[0m\u001b[0;34m\u001b[0m\u001b[0;34m\u001b[0m\u001b[0m\n\u001b[0;32m--> 244\u001b[0;31m             \u001b[0minput\u001b[0m \u001b[0;34m=\u001b[0m \u001b[0mmodule\u001b[0m\u001b[0;34m(\u001b[0m\u001b[0minput\u001b[0m\u001b[0;34m)\u001b[0m\u001b[0;34m\u001b[0m\u001b[0;34m\u001b[0m\u001b[0m\n\u001b[0m\u001b[1;32m    245\u001b[0m         \u001b[0;32mreturn\u001b[0m \u001b[0minput\u001b[0m\u001b[0;34m\u001b[0m\u001b[0;34m\u001b[0m\u001b[0m\n\u001b[1;32m    246\u001b[0m \u001b[0;34m\u001b[0m\u001b[0m\n",
            "\u001b[0;32m/usr/local/lib/python3.12/dist-packages/torch/nn/modules/module.py\u001b[0m in \u001b[0;36m_wrapped_call_impl\u001b[0;34m(self, *args, **kwargs)\u001b[0m\n\u001b[1;32m   1771\u001b[0m             \u001b[0;32mreturn\u001b[0m \u001b[0mself\u001b[0m\u001b[0;34m.\u001b[0m\u001b[0m_compiled_call_impl\u001b[0m\u001b[0;34m(\u001b[0m\u001b[0;34m*\u001b[0m\u001b[0margs\u001b[0m\u001b[0;34m,\u001b[0m \u001b[0;34m**\u001b[0m\u001b[0mkwargs\u001b[0m\u001b[0;34m)\u001b[0m  \u001b[0;31m# type: ignore[misc]\u001b[0m\u001b[0;34m\u001b[0m\u001b[0;34m\u001b[0m\u001b[0m\n\u001b[1;32m   1772\u001b[0m         \u001b[0;32melse\u001b[0m\u001b[0;34m:\u001b[0m\u001b[0;34m\u001b[0m\u001b[0;34m\u001b[0m\u001b[0m\n\u001b[0;32m-> 1773\u001b[0;31m             \u001b[0;32mreturn\u001b[0m \u001b[0mself\u001b[0m\u001b[0;34m.\u001b[0m\u001b[0m_call_impl\u001b[0m\u001b[0;34m(\u001b[0m\u001b[0;34m*\u001b[0m\u001b[0margs\u001b[0m\u001b[0;34m,\u001b[0m \u001b[0;34m**\u001b[0m\u001b[0mkwargs\u001b[0m\u001b[0;34m)\u001b[0m\u001b[0;34m\u001b[0m\u001b[0;34m\u001b[0m\u001b[0m\n\u001b[0m\u001b[1;32m   1774\u001b[0m \u001b[0;34m\u001b[0m\u001b[0m\n\u001b[1;32m   1775\u001b[0m     \u001b[0;31m# torchrec tests the code consistency with the following code\u001b[0m\u001b[0;34m\u001b[0m\u001b[0;34m\u001b[0m\u001b[0m\n",
            "\u001b[0;32m/usr/local/lib/python3.12/dist-packages/torch/nn/modules/module.py\u001b[0m in \u001b[0;36m_call_impl\u001b[0;34m(self, *args, **kwargs)\u001b[0m\n\u001b[1;32m   1782\u001b[0m                 \u001b[0;32mor\u001b[0m \u001b[0m_global_backward_pre_hooks\u001b[0m \u001b[0;32mor\u001b[0m \u001b[0m_global_backward_hooks\u001b[0m\u001b[0;34m\u001b[0m\u001b[0;34m\u001b[0m\u001b[0m\n\u001b[1;32m   1783\u001b[0m                 or _global_forward_hooks or _global_forward_pre_hooks):\n\u001b[0;32m-> 1784\u001b[0;31m             \u001b[0;32mreturn\u001b[0m \u001b[0mforward_call\u001b[0m\u001b[0;34m(\u001b[0m\u001b[0;34m*\u001b[0m\u001b[0margs\u001b[0m\u001b[0;34m,\u001b[0m \u001b[0;34m**\u001b[0m\u001b[0mkwargs\u001b[0m\u001b[0;34m)\u001b[0m\u001b[0;34m\u001b[0m\u001b[0;34m\u001b[0m\u001b[0m\n\u001b[0m\u001b[1;32m   1785\u001b[0m \u001b[0;34m\u001b[0m\u001b[0m\n\u001b[1;32m   1786\u001b[0m         \u001b[0mresult\u001b[0m \u001b[0;34m=\u001b[0m \u001b[0;32mNone\u001b[0m\u001b[0;34m\u001b[0m\u001b[0;34m\u001b[0m\u001b[0m\n",
            "\u001b[0;32m/usr/local/lib/python3.12/dist-packages/torch/nn/modules/pooling.py\u001b[0m in \u001b[0;36mforward\u001b[0;34m(self, input)\u001b[0m\n\u001b[1;32m    222\u001b[0m \u001b[0;34m\u001b[0m\u001b[0m\n\u001b[1;32m    223\u001b[0m     \u001b[0;32mdef\u001b[0m \u001b[0mforward\u001b[0m\u001b[0;34m(\u001b[0m\u001b[0mself\u001b[0m\u001b[0;34m,\u001b[0m \u001b[0minput\u001b[0m\u001b[0;34m:\u001b[0m \u001b[0mTensor\u001b[0m\u001b[0;34m)\u001b[0m\u001b[0;34m:\u001b[0m\u001b[0;34m\u001b[0m\u001b[0;34m\u001b[0m\u001b[0m\n\u001b[0;32m--> 224\u001b[0;31m         return F.max_pool2d(\n\u001b[0m\u001b[1;32m    225\u001b[0m             \u001b[0minput\u001b[0m\u001b[0;34m,\u001b[0m\u001b[0;34m\u001b[0m\u001b[0;34m\u001b[0m\u001b[0m\n\u001b[1;32m    226\u001b[0m             \u001b[0mself\u001b[0m\u001b[0;34m.\u001b[0m\u001b[0mkernel_size\u001b[0m\u001b[0;34m,\u001b[0m\u001b[0;34m\u001b[0m\u001b[0;34m\u001b[0m\u001b[0m\n",
            "\u001b[0;32m/usr/local/lib/python3.12/dist-packages/torch/_jit_internal.py\u001b[0m in \u001b[0;36mfn\u001b[0;34m(*args, **kwargs)\u001b[0m\n\u001b[1;32m    625\u001b[0m             \u001b[0;32mreturn\u001b[0m \u001b[0mif_true\u001b[0m\u001b[0;34m(\u001b[0m\u001b[0;34m*\u001b[0m\u001b[0margs\u001b[0m\u001b[0;34m,\u001b[0m \u001b[0;34m**\u001b[0m\u001b[0mkwargs\u001b[0m\u001b[0;34m)\u001b[0m\u001b[0;34m\u001b[0m\u001b[0;34m\u001b[0m\u001b[0m\n\u001b[1;32m    626\u001b[0m         \u001b[0;32melse\u001b[0m\u001b[0;34m:\u001b[0m\u001b[0;34m\u001b[0m\u001b[0;34m\u001b[0m\u001b[0m\n\u001b[0;32m--> 627\u001b[0;31m             \u001b[0;32mreturn\u001b[0m \u001b[0mif_false\u001b[0m\u001b[0;34m(\u001b[0m\u001b[0;34m*\u001b[0m\u001b[0margs\u001b[0m\u001b[0;34m,\u001b[0m \u001b[0;34m**\u001b[0m\u001b[0mkwargs\u001b[0m\u001b[0;34m)\u001b[0m\u001b[0;34m\u001b[0m\u001b[0;34m\u001b[0m\u001b[0m\n\u001b[0m\u001b[1;32m    628\u001b[0m \u001b[0;34m\u001b[0m\u001b[0m\n\u001b[1;32m    629\u001b[0m     \u001b[0;32mif\u001b[0m \u001b[0mif_true\u001b[0m\u001b[0;34m.\u001b[0m\u001b[0m__doc__\u001b[0m \u001b[0;32mis\u001b[0m \u001b[0;32mNone\u001b[0m \u001b[0;32mand\u001b[0m \u001b[0mif_false\u001b[0m\u001b[0;34m.\u001b[0m\u001b[0m__doc__\u001b[0m \u001b[0;32mis\u001b[0m \u001b[0;32mnot\u001b[0m \u001b[0;32mNone\u001b[0m\u001b[0;34m:\u001b[0m\u001b[0;34m\u001b[0m\u001b[0;34m\u001b[0m\u001b[0m\n",
            "\u001b[0;32m/usr/local/lib/python3.12/dist-packages/torch/nn/functional.py\u001b[0m in \u001b[0;36m_max_pool2d\u001b[0;34m(input, kernel_size, stride, padding, dilation, ceil_mode, return_indices)\u001b[0m\n\u001b[1;32m    825\u001b[0m     \u001b[0;32mif\u001b[0m \u001b[0mstride\u001b[0m \u001b[0;32mis\u001b[0m \u001b[0;32mNone\u001b[0m\u001b[0;34m:\u001b[0m\u001b[0;34m\u001b[0m\u001b[0;34m\u001b[0m\u001b[0m\n\u001b[1;32m    826\u001b[0m         \u001b[0mstride\u001b[0m \u001b[0;34m=\u001b[0m \u001b[0mtorch\u001b[0m\u001b[0;34m.\u001b[0m\u001b[0mjit\u001b[0m\u001b[0;34m.\u001b[0m\u001b[0mannotate\u001b[0m\u001b[0;34m(\u001b[0m\u001b[0mlist\u001b[0m\u001b[0;34m[\u001b[0m\u001b[0mint\u001b[0m\u001b[0;34m]\u001b[0m\u001b[0;34m,\u001b[0m \u001b[0;34m[\u001b[0m\u001b[0;34m]\u001b[0m\u001b[0;34m)\u001b[0m\u001b[0;34m\u001b[0m\u001b[0;34m\u001b[0m\u001b[0m\n\u001b[0;32m--> 827\u001b[0;31m     \u001b[0;32mreturn\u001b[0m \u001b[0mtorch\u001b[0m\u001b[0;34m.\u001b[0m\u001b[0mmax_pool2d\u001b[0m\u001b[0;34m(\u001b[0m\u001b[0minput\u001b[0m\u001b[0;34m,\u001b[0m \u001b[0mkernel_size\u001b[0m\u001b[0;34m,\u001b[0m \u001b[0mstride\u001b[0m\u001b[0;34m,\u001b[0m \u001b[0mpadding\u001b[0m\u001b[0;34m,\u001b[0m \u001b[0mdilation\u001b[0m\u001b[0;34m,\u001b[0m \u001b[0mceil_mode\u001b[0m\u001b[0;34m)\u001b[0m\u001b[0;34m\u001b[0m\u001b[0;34m\u001b[0m\u001b[0m\n\u001b[0m\u001b[1;32m    828\u001b[0m \u001b[0;34m\u001b[0m\u001b[0m\n\u001b[1;32m    829\u001b[0m \u001b[0;34m\u001b[0m\u001b[0m\n",
            "\u001b[0;31mRuntimeError\u001b[0m: Given input size: (1x16x1). Calculated output size: (1x4x0). Output size is too small"
          ]
        }
      ]
    },
    {
      "cell_type": "code",
      "source": [
        "enumerate(train_loader)"
      ],
      "metadata": {
        "id": "29Op-HbYFA4L",
        "outputId": "366d71d8-7303-47eb-ec38-9425b747336f",
        "colab": {
          "base_uri": "https://localhost:8080/"
        }
      },
      "execution_count": 56,
      "outputs": [
        {
          "output_type": "execute_result",
          "data": {
            "text/plain": [
              "<enumerate at 0x7bff2fab1620>"
            ]
          },
          "metadata": {},
          "execution_count": 56
        }
      ]
    },
    {
      "cell_type": "code",
      "source": [
        "import numpy as np\n",
        "from torchmetrics import Accuracy\n",
        "\n",
        "train_loader = torch.utils.data.DataLoader(dataset)\n",
        "\n",
        "def train (model, dataset, gpu=False):\n",
        "\n",
        "  accuracy_function = Accuracy(task='multiclass', num_classes=2)\n",
        "\n",
        "  if(gpu):\n",
        "    model.cuda()\n",
        "    accuracy_function.cuda()\n",
        "\n",
        "  num_epochs = 2\n",
        "\n",
        "  for epoch in range(num_epochs):\n",
        "    for batch_idx, inputs in enumerate(train_loader):\n",
        "\n",
        "      sequence = inputs['x']\n",
        "      bow_component = inputs['bow_components']\n",
        "      label = inputs['y']\n",
        "\n",
        "      print(inputs.shape)\n",
        "      inputs = inputs.to('cuda')\n",
        "      labels = labels.to('cuda')\n",
        "\n",
        "      optimizer.zero_grad()\n",
        "      outputs = model(inputs)\n",
        "      loss = criterion(outputs, labels)\n",
        "      loss.backward()\n",
        "      optimizer.step()\n",
        "\n",
        "      if (batch_idx) % 10 == 0:\n",
        "        print('Epoch [%d/%d], Step [%d/%d], Loss: %.4f, Accuracy: %.4f'\n",
        "          %(epoch+1, num_epochs, batch_idx, len(train_loader.dataset)//inputs.size()[0], loss.item(), accuracy_function(outputs,labels)))\n",
        "\n",
        "\n"
      ],
      "metadata": {
        "id": "xxEOXpZE6Qgz"
      },
      "execution_count": 78,
      "outputs": []
    },
    {
      "cell_type": "code",
      "source": [
        "train(model, dataset)"
      ],
      "metadata": {
        "id": "AakmSejg6T9d",
        "colab": {
          "base_uri": "https://localhost:8080/",
          "height": 250
        },
        "outputId": "d6a1c6f6-970b-4393-f2ae-8c655bc6c037"
      },
      "execution_count": 79,
      "outputs": [
        {
          "output_type": "error",
          "ename": "AttributeError",
          "evalue": "'dict' object has no attribute 'shape'",
          "traceback": [
            "\u001b[0;31m---------------------------------------------------------------------------\u001b[0m",
            "\u001b[0;31mAttributeError\u001b[0m                            Traceback (most recent call last)",
            "\u001b[0;32m/tmp/ipython-input-244896021.py\u001b[0m in \u001b[0;36m<cell line: 0>\u001b[0;34m()\u001b[0m\n\u001b[0;32m----> 1\u001b[0;31m \u001b[0mtrain\u001b[0m\u001b[0;34m(\u001b[0m\u001b[0mmodel\u001b[0m\u001b[0;34m,\u001b[0m \u001b[0mdataset\u001b[0m\u001b[0;34m)\u001b[0m\u001b[0;34m\u001b[0m\u001b[0;34m\u001b[0m\u001b[0m\n\u001b[0m",
            "\u001b[0;32m/tmp/ipython-input-2823067421.py\u001b[0m in \u001b[0;36mtrain\u001b[0;34m(model, dataset, gpu)\u001b[0m\n\u001b[1;32m     21\u001b[0m       \u001b[0mlabel\u001b[0m \u001b[0;34m=\u001b[0m \u001b[0minputs\u001b[0m\u001b[0;34m[\u001b[0m\u001b[0;34m'y'\u001b[0m\u001b[0;34m]\u001b[0m\u001b[0;34m\u001b[0m\u001b[0;34m\u001b[0m\u001b[0m\n\u001b[1;32m     22\u001b[0m \u001b[0;34m\u001b[0m\u001b[0m\n\u001b[0;32m---> 23\u001b[0;31m       \u001b[0mprint\u001b[0m\u001b[0;34m(\u001b[0m\u001b[0minputs\u001b[0m\u001b[0;34m.\u001b[0m\u001b[0mshape\u001b[0m\u001b[0;34m)\u001b[0m\u001b[0;34m\u001b[0m\u001b[0;34m\u001b[0m\u001b[0m\n\u001b[0m\u001b[1;32m     24\u001b[0m       \u001b[0minputs\u001b[0m \u001b[0;34m=\u001b[0m \u001b[0minputs\u001b[0m\u001b[0;34m.\u001b[0m\u001b[0mto\u001b[0m\u001b[0;34m(\u001b[0m\u001b[0;34m'cuda'\u001b[0m\u001b[0;34m)\u001b[0m\u001b[0;34m\u001b[0m\u001b[0;34m\u001b[0m\u001b[0m\n\u001b[1;32m     25\u001b[0m       \u001b[0mlabels\u001b[0m \u001b[0;34m=\u001b[0m \u001b[0mlabels\u001b[0m\u001b[0;34m.\u001b[0m\u001b[0mto\u001b[0m\u001b[0;34m(\u001b[0m\u001b[0;34m'cuda'\u001b[0m\u001b[0;34m)\u001b[0m\u001b[0;34m\u001b[0m\u001b[0;34m\u001b[0m\u001b[0m\n",
            "\u001b[0;31mAttributeError\u001b[0m: 'dict' object has no attribute 'shape'"
          ]
        }
      ]
    },
    {
      "cell_type": "markdown",
      "metadata": {
        "id": "srzADCTJac3f"
      },
      "source": [
        "## Testing"
      ]
    },
    {
      "cell_type": "code",
      "source": [
        "from tqdm import tqdm\n",
        "from torchmetrics import Accuracy\n",
        "\n",
        "def evaluate(model, dataset, gpu=True):\n",
        "  accuracy_function = Accuracy(task='binary')\n",
        "\n",
        "  if(gpu):\n",
        "    model.cuda()\n",
        "    accuracy_function.cuda()\n",
        "\n",
        "    loader = DataLoader(dataset, batch_size=32, shuffle=False)\n",
        "    model.eval() #Turn off training-only layers\n",
        "    all_predictions = []\n",
        "    all_labels = []\n",
        "    with torch.no_grad(): #Dont track gradients\n",
        "      for batch_x,batch_y in tqdm(loader):\n",
        "        if(gpu):\n",
        "          batch_x, batch_y = batch_x.cuda(), batch_y.cuda()\n",
        "\n",
        "        output = model(batch_x)\n",
        "        all_predictions.append(output)\n",
        "        all_labels.append(batch_y)\n",
        "\n",
        "    print('Accuracy:', accuracy_function(torch.cat(all_predictions), torch.cat(all_labels)).item())"
      ],
      "metadata": {
        "id": "nR7RH_s769h5"
      },
      "execution_count": null,
      "outputs": []
    },
    {
      "cell_type": "code",
      "source": [
        "evaluate(model, train_dset)"
      ],
      "metadata": {
        "id": "djY5tCNk7DXu"
      },
      "execution_count": null,
      "outputs": []
    },
    {
      "cell_type": "code",
      "source": [
        "evaluate(model, test_dset)"
      ],
      "metadata": {
        "id": "FQ-CWbo47HGr"
      },
      "execution_count": null,
      "outputs": []
    },
    {
      "cell_type": "code",
      "source": [],
      "metadata": {
        "id": "pkxCSc8RvuOx"
      },
      "execution_count": null,
      "outputs": []
    },
    {
      "cell_type": "code",
      "source": [],
      "metadata": {
        "id": "0QPdBydVvuVl"
      },
      "execution_count": null,
      "outputs": []
    },
    {
      "cell_type": "code",
      "source": [],
      "metadata": {
        "id": "WyX0eFgnvuYL"
      },
      "execution_count": null,
      "outputs": []
    },
    {
      "cell_type": "code",
      "source": [],
      "metadata": {
        "id": "qrZViYV8vuaV"
      },
      "execution_count": null,
      "outputs": []
    },
    {
      "cell_type": "code",
      "source": [],
      "metadata": {
        "id": "NtVqQUA-vucM"
      },
      "execution_count": null,
      "outputs": []
    },
    {
      "cell_type": "code",
      "source": [],
      "metadata": {
        "id": "xxYyQTXHvud-"
      },
      "execution_count": null,
      "outputs": []
    },
    {
      "cell_type": "code",
      "source": [],
      "metadata": {
        "id": "Q5iqegbOvuft"
      },
      "execution_count": null,
      "outputs": []
    },
    {
      "cell_type": "code",
      "source": [],
      "metadata": {
        "id": "CyevoI9Fvuhq"
      },
      "execution_count": null,
      "outputs": []
    },
    {
      "cell_type": "code",
      "source": [],
      "metadata": {
        "id": "n9rv57RIvuj1"
      },
      "execution_count": null,
      "outputs": []
    },
    {
      "cell_type": "code",
      "source": [
        "from itertools import product\n",
        "\n",
        "# Bases\n",
        "bases = ['A', 'C', 'G', 'T']\n",
        "\n",
        "# Generate all 3-mer combinations\n",
        "all_3mers = [''.join(p) for p in product(bases, repeat=3)]\n",
        "\n",
        "print(\"Total 3-mers:\", len(all_3mers))\n",
        "print(all_3mers)"
      ],
      "metadata": {
        "id": "zwKhFaDK4LDR",
        "colab": {
          "base_uri": "https://localhost:8080/"
        },
        "outputId": "f1552e5f-9dd7-40a7-910f-722e087772c1"
      },
      "execution_count": 65,
      "outputs": [
        {
          "output_type": "stream",
          "name": "stdout",
          "text": [
            "Total 3-mers: 64\n",
            "['AAA', 'AAC', 'AAG', 'AAT', 'ACA', 'ACC', 'ACG', 'ACT', 'AGA', 'AGC', 'AGG', 'AGT', 'ATA', 'ATC', 'ATG', 'ATT', 'CAA', 'CAC', 'CAG', 'CAT', 'CCA', 'CCC', 'CCG', 'CCT', 'CGA', 'CGC', 'CGG', 'CGT', 'CTA', 'CTC', 'CTG', 'CTT', 'GAA', 'GAC', 'GAG', 'GAT', 'GCA', 'GCC', 'GCG', 'GCT', 'GGA', 'GGC', 'GGG', 'GGT', 'GTA', 'GTC', 'GTG', 'GTT', 'TAA', 'TAC', 'TAG', 'TAT', 'TCA', 'TCC', 'TCG', 'TCT', 'TGA', 'TGC', 'TGG', 'TGT', 'TTA', 'TTC', 'TTG', 'TTT']\n"
          ]
        }
      ]
    },
    {
      "cell_type": "code",
      "source": [
        "encoded_codons = [[vocab[base] for base in all_3mer] for all_3mer in all_3mers]\n",
        "print(encoded_codons)"
      ],
      "metadata": {
        "colab": {
          "base_uri": "https://localhost:8080/"
        },
        "id": "8rBp3s6WsIic",
        "outputId": "45616dc1-5a64-40d2-d40c-f6af75f47dd7"
      },
      "execution_count": 66,
      "outputs": [
        {
          "output_type": "stream",
          "name": "stdout",
          "text": [
            "[[0, 0, 0], [0, 0, 1], [0, 0, 3], [0, 0, 2], [0, 1, 0], [0, 1, 1], [0, 1, 3], [0, 1, 2], [0, 3, 0], [0, 3, 1], [0, 3, 3], [0, 3, 2], [0, 2, 0], [0, 2, 1], [0, 2, 3], [0, 2, 2], [1, 0, 0], [1, 0, 1], [1, 0, 3], [1, 0, 2], [1, 1, 0], [1, 1, 1], [1, 1, 3], [1, 1, 2], [1, 3, 0], [1, 3, 1], [1, 3, 3], [1, 3, 2], [1, 2, 0], [1, 2, 1], [1, 2, 3], [1, 2, 2], [3, 0, 0], [3, 0, 1], [3, 0, 3], [3, 0, 2], [3, 1, 0], [3, 1, 1], [3, 1, 3], [3, 1, 2], [3, 3, 0], [3, 3, 1], [3, 3, 3], [3, 3, 2], [3, 2, 0], [3, 2, 1], [3, 2, 3], [3, 2, 2], [2, 0, 0], [2, 0, 1], [2, 0, 3], [2, 0, 2], [2, 1, 0], [2, 1, 1], [2, 1, 3], [2, 1, 2], [2, 3, 0], [2, 3, 1], [2, 3, 3], [2, 3, 2], [2, 2, 0], [2, 2, 1], [2, 2, 3], [2, 2, 2]]\n"
          ]
        }
      ]
    }
  ],
  "metadata": {
    "colab": {
      "provenance": [],
      "gpuType": "T4",
      "include_colab_link": true
    },
    "environment": {
      "name": "pytorch-gpu.1-9.m75",
      "type": "gcloud",
      "uri": "gcr.io/deeplearning-platform-release/pytorch-gpu.1-9:m75"
    },
    "interpreter": {
      "hash": "af167c304fdc99884e31a029277e630a5b00036f91292350fffdeed1d15b16ff"
    },
    "kernelspec": {
      "display_name": "Python 3",
      "name": "python3"
    },
    "language_info": {
      "codemirror_mode": {
        "name": "ipython",
        "version": 3
      },
      "file_extension": ".py",
      "mimetype": "text/x-python",
      "name": "python",
      "nbconvert_exporter": "python",
      "pygments_lexer": "ipython3",
      "version": "3.8.9"
    },
    "accelerator": "GPU"
  },
  "nbformat": 4,
  "nbformat_minor": 0
}